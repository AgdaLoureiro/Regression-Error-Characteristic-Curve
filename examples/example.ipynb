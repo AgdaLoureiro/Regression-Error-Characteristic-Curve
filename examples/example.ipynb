{
 "cells": [
  {
   "cell_type": "markdown",
   "metadata": {},
   "source": [
    "# Example"
   ]
  },
  {
   "cell_type": "code",
   "execution_count": 1,
   "metadata": {},
   "outputs": [
    {
     "name": "stdout",
     "output_type": "stream",
     "text": [
      "/home/amirhessam/Documents/GitHub/rec-curve\n"
     ]
    },
    {
     "data": {
      "text/html": [
       "<style>.container { width:95% !important; }</style>"
      ],
      "text/plain": [
       "<IPython.core.display.HTML object>"
      ]
     },
     "metadata": {},
     "output_type": "display_data"
    }
   ],
   "source": [
    "# change directory to src ..\n",
    "%cd ..\n",
    "\n",
    "%load_ext autoreload\n",
    "\n",
    "# widen the screen\n",
    "from IPython.core.display import display, HTML\n",
    "display(HTML(\"<style>.container { width:95% !important; }</style>\"))"
   ]
  },
  {
   "cell_type": "markdown",
   "metadata": {},
   "source": [
    "### Load Data and Train a Regression Model"
   ]
  },
  {
   "cell_type": "code",
   "execution_count": 2,
   "metadata": {},
   "outputs": [],
   "source": [
    "# load data, train model\n",
    "from sklearn import linear_model, datasets\n",
    "from sklearn.model_selection import cross_val_predict\n",
    "\n",
    "# loading a sample regression dataset\n",
    "boston = datasets.load_boston()\n",
    "X = boston.data\n",
    "y_true = boston.target\n",
    "\n",
    "# defining a simple linear regression model\n",
    "model = linear_model.LinearRegression()\n",
    "\n",
    "# predicting using 4-folds cross-validation\n",
    "y_pred = cross_val_predict(model, X, y_true, cv=4)"
   ]
  },
  {
   "cell_type": "markdown",
   "metadata": {},
   "source": [
    "### Let's try to plot REC curve"
   ]
  },
  {
   "cell_type": "code",
   "execution_count": 3,
   "metadata": {},
   "outputs": [],
   "source": [
    "# import the Class\n",
    "from src.rec import RegressionErrorCharacteristic"
   ]
  },
  {
   "cell_type": "code",
   "execution_count": 4,
   "metadata": {},
   "outputs": [
    {
     "data": {
      "image/png": "[encoded data removed]",
      "text/plain": [
       "<Figure size 576x360 with 1 Axes>"
      ]
     },
     "metadata": {},
     "output_type": "display_data"
    }
   ],
   "source": [
    "# initiate the RegressionErrorCharacteristic with y_pred and y_true\n",
    "myREC = RegressionErrorCharacteristic(y_true, y_pred)\n",
    "\n",
    "# now we can use the class function plot_rec()\n",
    "myREC.plot_rec()"
   ]
  },
  {
   "cell_type": "markdown",
   "metadata": {},
   "source": [
    "### We can also access the plotting data directly"
   ]
  },
  {
   "cell_type": "code",
   "execution_count": 7,
   "metadata": {},
   "outputs": [
    {
     "data": {
      "text/plain": [
       "0.8348534255599472"
      ]
     },
     "execution_count": 7,
     "metadata": {},
     "output_type": "execute_result"
    }
   ],
   "source": [
    "# area under rec curve\n",
    "myREC.auc_rec"
   ]
  },
  {
   "cell_type": "code",
   "execution_count": 5,
   "metadata": {},
   "outputs": [
    {
     "data": {
      "text/plain": [
       "array([0.  , 0.01, 0.02, 0.03, 0.04, 0.05, 0.06, 0.07, 0.08, 0.09, 0.1 ,\n",
       "       0.11, 0.12, 0.13, 0.14, 0.15, 0.16, 0.17, 0.18, 0.19, 0.2 , 0.21,\n",
       "       0.22, 0.23, 0.24, 0.25, 0.26, 0.27, 0.28, 0.29, 0.3 , 0.31, 0.32,\n",
       "       0.33, 0.34, 0.35, 0.36, 0.37, 0.38, 0.39, 0.4 , 0.41, 0.42, 0.43,\n",
       "       0.44, 0.45, 0.46, 0.47, 0.48, 0.49, 0.5 , 0.51, 0.52, 0.53, 0.54,\n",
       "       0.55, 0.56, 0.57, 0.58, 0.59, 0.6 , 0.61, 0.62, 0.63, 0.64, 0.65,\n",
       "       0.66, 0.67, 0.68, 0.69, 0.7 , 0.71, 0.72, 0.73, 0.74, 0.75, 0.76,\n",
       "       0.77, 0.78, 0.79, 0.8 , 0.81, 0.82, 0.83, 0.84, 0.85, 0.86, 0.87,\n",
       "       0.88, 0.89, 0.9 , 0.91, 0.92, 0.93, 0.94, 0.95, 0.96, 0.97, 0.98,\n",
       "       0.99])"
      ]
     },
     "execution_count": 5,
     "metadata": {},
     "output_type": "execute_result"
    }
   ],
   "source": [
    "# deviation array\n",
    "myREC.deviation"
   ]
  },
  {
   "cell_type": "code",
   "execution_count": 6,
   "metadata": {},
   "outputs": [
    {
     "data": {
      "text/plain": [
       "[0.0,\n",
       " 0.04940711462450593,\n",
       " 0.10869565217391304,\n",
       " 0.17391304347826086,\n",
       " 0.22924901185770752,\n",
       " 0.274703557312253,\n",
       " 0.3201581027667984,\n",
       " 0.3616600790513834,\n",
       " 0.40711462450592883,\n",
       " 0.4407114624505929,\n",
       " 0.4881422924901186,\n",
       " 0.5276679841897233,\n",
       " 0.5612648221343873,\n",
       " 0.5849802371541502,\n",
       " 0.616600790513834,\n",
       " 0.6442687747035574,\n",
       " 0.6600790513833992,\n",
       " 0.6818181818181818,\n",
       " 0.7055335968379447,\n",
       " 0.717391304347826,\n",
       " 0.7351778656126482,\n",
       " 0.7509881422924901,\n",
       " 0.7648221343873518,\n",
       " 0.7766798418972332,\n",
       " 0.7865612648221344,\n",
       " 0.7924901185770751,\n",
       " 0.808300395256917,\n",
       " 0.8181818181818182,\n",
       " 0.8260869565217391,\n",
       " 0.8320158102766798,\n",
       " 0.8399209486166008,\n",
       " 0.8458498023715415,\n",
       " 0.8557312252964426,\n",
       " 0.8675889328063241,\n",
       " 0.8774703557312253,\n",
       " 0.8893280632411067,\n",
       " 0.8952569169960475,\n",
       " 0.9051383399209486,\n",
       " 0.9090909090909091,\n",
       " 0.9189723320158103,\n",
       " 0.9229249011857708,\n",
       " 0.9288537549407114,\n",
       " 0.9308300395256917,\n",
       " 0.9347826086956522,\n",
       " 0.9387351778656127,\n",
       " 0.9446640316205533,\n",
       " 0.950592885375494,\n",
       " 0.950592885375494,\n",
       " 0.9525691699604744,\n",
       " 0.9545454545454546,\n",
       " 0.9565217391304348,\n",
       " 0.9624505928853755,\n",
       " 0.9644268774703557,\n",
       " 0.9644268774703557,\n",
       " 0.9664031620553359,\n",
       " 0.9683794466403162,\n",
       " 0.9703557312252964,\n",
       " 0.9703557312252964,\n",
       " 0.974308300395257,\n",
       " 0.9782608695652174,\n",
       " 0.9802371541501976,\n",
       " 0.9822134387351779,\n",
       " 0.9822134387351779,\n",
       " 0.9841897233201581,\n",
       " 0.9861660079051383,\n",
       " 0.9881422924901185,\n",
       " 0.9881422924901185,\n",
       " 0.9881422924901185,\n",
       " 0.9881422924901185,\n",
       " 0.9901185770750988,\n",
       " 0.9901185770750988,\n",
       " 0.9901185770750988,\n",
       " 0.9901185770750988,\n",
       " 0.9901185770750988,\n",
       " 0.9901185770750988,\n",
       " 0.9901185770750988,\n",
       " 0.9901185770750988,\n",
       " 0.9901185770750988,\n",
       " 0.9901185770750988,\n",
       " 0.9901185770750988,\n",
       " 0.9901185770750988,\n",
       " 0.9920948616600791,\n",
       " 0.9920948616600791,\n",
       " 0.9920948616600791,\n",
       " 0.9920948616600791,\n",
       " 0.9920948616600791,\n",
       " 0.9920948616600791,\n",
       " 0.9940711462450593,\n",
       " 0.9940711462450593,\n",
       " 0.9940711462450593,\n",
       " 0.9940711462450593,\n",
       " 0.9960474308300395,\n",
       " 0.9960474308300395,\n",
       " 0.9960474308300395,\n",
       " 0.9960474308300395,\n",
       " 0.9960474308300395,\n",
       " 0.9960474308300395,\n",
       " 0.9960474308300395,\n",
       " 0.9980237154150198,\n",
       " 0.9980237154150198]"
      ]
     },
     "execution_count": 6,
     "metadata": {},
     "output_type": "execute_result"
    }
   ],
   "source": [
    "# accuracy array\n",
    "myREC.accuracy"
   ]
  },
  {
   "cell_type": "code",
   "execution_count": null,
   "metadata": {},
   "outputs": [],
   "source": []
  },
  {
   "cell_type": "code",
   "execution_count": null,
   "metadata": {},
   "outputs": [],
   "source": []
  }
 ],
 "metadata": {
  "kernelspec": {
   "display_name": "Python 3",
   "language": "python",
   "name": "python3"
  },
  "language_info": {
   "codemirror_mode": {
    "name": "ipython",
    "version": 3
   },
   "file_extension": ".py",
   "mimetype": "text/x-python",
   "name": "python",
   "nbconvert_exporter": "python",
   "pygments_lexer": "ipython3",
   "version": "3.7.6"
  }
 },
 "nbformat": 4,
 "nbformat_minor": 4
}
